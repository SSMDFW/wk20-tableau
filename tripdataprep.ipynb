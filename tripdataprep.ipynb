{
 "cells": [
  {
   "cell_type": "code",
   "execution_count": 2,
   "metadata": {},
   "outputs": [],
   "source": [
    "root = 'C:\\\\Users\\\\silva\\\\Documents\\\\GitHub\\\\20-Tableau\\\\data\\\\'\n",
    "\n",
    "ddict = {}\n",
    "for file in os.listdir(root):\n",
    "    if file.endswith(\".csv\"):\n",
    "        name = os.path.splitext(file)[0][:6]\n",
    "        ddict[name] = pd.read_csv(os.path.join(root, file))"
   ]
  },
  {
   "cell_type": "code",
   "execution_count": 1,
   "metadata": {},
   "outputs": [],
   "source": [
    "import os, fnmatch\n",
    "import csv\n",
    "import pandas as pd\n",
    "from datetime import datetime, date, time, timedelta\n",
    "import datetime as dt\n",
    "import numpy as np\n"
   ]
  },
  {
   "cell_type": "code",
   "execution_count": 3,
   "metadata": {},
   "outputs": [
    {
     "name": "stdout",
     "output_type": "stream",
     "text": [
      "set(['end station id', 'end station longitude', 'bikeid', 'start station id', 'start station longitude', 'end station latitude', 'end station name', 'start station latitude', 'birth year', 'usertype', 'stoptime', 'starttime', 'gender', 'tripduration', 'start station name'])\n"
     ]
    }
   ],
   "source": [
    "\n",
    "print(set(ddict[\"201812\"].columns)\n",
    "    .intersection(set(ddict[\"201901\"].columns))\n",
    "    .intersection(set(ddict[\"201902\"].columns))\n",
    "    .intersection(set(ddict[\"201903\"].columns))\n",
    "    .intersection(set(ddict[\"201904\"].columns))\n",
    "    .intersection(set(ddict[\"201905\"].columns)))\n"
   ]
  },
  {
   "cell_type": "code",
   "execution_count": 4,
   "metadata": {},
   "outputs": [
    {
     "data": {
      "text/plain": [
       "['201812', '201904', '201905', '201902', '201903', '201901']"
      ]
     },
     "execution_count": 4,
     "metadata": {},
     "output_type": "execute_result"
    }
   ],
   "source": [
    "ddicts= ddict.keys()\n",
    "ddicts"
   ]
  },
  {
   "cell_type": "code",
   "execution_count": 5,
   "metadata": {},
   "outputs": [],
   "source": [
    "\n",
    "columns= ddict[\"201812\"].columns\n",
    "masterdf = pd.DataFrame( columns=columns)\n",
    "\n",
    "for x in ddicts[0:]:\n",
    "    masterdf =pd.concat([masterdf,ddict[x]])\n",
    "    "
   ]
  },
  {
   "cell_type": "code",
   "execution_count": 6,
   "metadata": {},
   "outputs": [
    {
     "name": "stdout",
     "output_type": "stream",
     "text": [
      "<class 'pandas.core.frame.DataFrame'>\n",
      "Int64Index: 7946153 entries, 0 to 967286\n",
      "Data columns (total 15 columns):\n",
      "tripduration               object\n",
      "starttime                  object\n",
      "stoptime                   object\n",
      "start station id           float64\n",
      "start station name         object\n",
      "start station latitude     float64\n",
      "start station longitude    float64\n",
      "end station id             float64\n",
      "end station name           object\n",
      "end station latitude       float64\n",
      "end station longitude      float64\n",
      "bikeid                     object\n",
      "usertype                   object\n",
      "birth year                 object\n",
      "gender                     object\n",
      "dtypes: float64(6), object(9)\n",
      "memory usage: 970.0+ MB\n"
     ]
    }
   ],
   "source": [
    "masterdf.info()"
   ]
  },
  {
   "cell_type": "code",
   "execution_count": 7,
   "metadata": {},
   "outputs": [
    {
     "name": "stdout",
     "output_type": "stream",
     "text": [
      "<class 'pandas.core.frame.DataFrame'>\n",
      "Int64Index: 7946153 entries, 0 to 967286\n",
      "Data columns (total 15 columns):\n",
      "tripduration               object\n",
      "starttime                  datetime64[ns]\n",
      "stoptime                   datetime64[ns]\n",
      "start station id           float64\n",
      "start station name         object\n",
      "start station latitude     float64\n",
      "start station longitude    float64\n",
      "end station id             float64\n",
      "end station name           object\n",
      "end station latitude       float64\n",
      "end station longitude      float64\n",
      "bikeid                     object\n",
      "usertype                   object\n",
      "birth year                 int32\n",
      "gender                     object\n",
      "dtypes: datetime64[ns](2), float64(6), int32(1), object(6)\n",
      "memory usage: 939.7+ MB\n"
     ]
    }
   ],
   "source": [
    "masterdf['starttime']=pd.to_datetime(masterdf['starttime'])\n",
    "masterdf['stoptime']=pd.to_datetime(masterdf['stoptime'])\n",
    "masterdf['birth year'] = masterdf['birth year'].astype(int)\n",
    "\n",
    "\n",
    "masterdf.info()\n"
   ]
  },
  {
   "cell_type": "code",
   "execution_count": 8,
   "metadata": {},
   "outputs": [
    {
     "data": {
      "text/html": [
       "<div>\n",
       "<style scoped>\n",
       "    .dataframe tbody tr th:only-of-type {\n",
       "        vertical-align: middle;\n",
       "    }\n",
       "\n",
       "    .dataframe tbody tr th {\n",
       "        vertical-align: top;\n",
       "    }\n",
       "\n",
       "    .dataframe thead th {\n",
       "        text-align: right;\n",
       "    }\n",
       "</style>\n",
       "<table border=\"1\" class=\"dataframe\">\n",
       "  <thead>\n",
       "    <tr style=\"text-align: right;\">\n",
       "      <th></th>\n",
       "      <th>tripduration</th>\n",
       "      <th>starttime</th>\n",
       "      <th>stoptime</th>\n",
       "      <th>start station id</th>\n",
       "      <th>start station name</th>\n",
       "      <th>start station latitude</th>\n",
       "      <th>start station longitude</th>\n",
       "      <th>end station id</th>\n",
       "      <th>end station name</th>\n",
       "      <th>end station latitude</th>\n",
       "      <th>end station longitude</th>\n",
       "      <th>bikeid</th>\n",
       "      <th>usertype</th>\n",
       "      <th>birth year</th>\n",
       "      <th>gender</th>\n",
       "    </tr>\n",
       "  </thead>\n",
       "  <tbody>\n",
       "    <tr>\n",
       "      <th>0</th>\n",
       "      <td>689</td>\n",
       "      <td>2018-12-01 00:00:04.302</td>\n",
       "      <td>2018-12-01 00:11:33.846</td>\n",
       "      <td>3359.0</td>\n",
       "      <td>E 68 St &amp; Madison Ave</td>\n",
       "      <td>40.769157</td>\n",
       "      <td>-73.967035</td>\n",
       "      <td>164.0</td>\n",
       "      <td>E 47 St &amp; 2 Ave</td>\n",
       "      <td>40.753231</td>\n",
       "      <td>-73.970325</td>\n",
       "      <td>35033</td>\n",
       "      <td>Subscriber</td>\n",
       "      <td>1989</td>\n",
       "      <td>1</td>\n",
       "    </tr>\n",
       "    <tr>\n",
       "      <th>1</th>\n",
       "      <td>204</td>\n",
       "      <td>2018-12-01 00:00:05.533</td>\n",
       "      <td>2018-12-01 00:03:30.523</td>\n",
       "      <td>3504.0</td>\n",
       "      <td>E 123 St &amp; Lexington Ave</td>\n",
       "      <td>40.802926</td>\n",
       "      <td>-73.937900</td>\n",
       "      <td>3490.0</td>\n",
       "      <td>E 116 St &amp; 2 Ave</td>\n",
       "      <td>40.796879</td>\n",
       "      <td>-73.937261</td>\n",
       "      <td>20501</td>\n",
       "      <td>Subscriber</td>\n",
       "      <td>1966</td>\n",
       "      <td>1</td>\n",
       "    </tr>\n",
       "    <tr>\n",
       "      <th>2</th>\n",
       "      <td>316</td>\n",
       "      <td>2018-12-01 00:00:10.233</td>\n",
       "      <td>2018-12-01 00:05:27.203</td>\n",
       "      <td>270.0</td>\n",
       "      <td>Adelphi St &amp; Myrtle Ave</td>\n",
       "      <td>40.693083</td>\n",
       "      <td>-73.971789</td>\n",
       "      <td>243.0</td>\n",
       "      <td>Fulton St &amp; Rockwell Pl</td>\n",
       "      <td>40.688226</td>\n",
       "      <td>-73.979382</td>\n",
       "      <td>18386</td>\n",
       "      <td>Subscriber</td>\n",
       "      <td>1984</td>\n",
       "      <td>1</td>\n",
       "    </tr>\n",
       "    <tr>\n",
       "      <th>3</th>\n",
       "      <td>726</td>\n",
       "      <td>2018-12-01 00:00:21.957</td>\n",
       "      <td>2018-12-01 00:12:28.183</td>\n",
       "      <td>495.0</td>\n",
       "      <td>W 47 St &amp; 10 Ave</td>\n",
       "      <td>40.762699</td>\n",
       "      <td>-73.993012</td>\n",
       "      <td>3660.0</td>\n",
       "      <td>W 16 St &amp; 8 Ave</td>\n",
       "      <td>40.741022</td>\n",
       "      <td>-74.001385</td>\n",
       "      <td>27616</td>\n",
       "      <td>Subscriber</td>\n",
       "      <td>1983</td>\n",
       "      <td>1</td>\n",
       "    </tr>\n",
       "    <tr>\n",
       "      <th>4</th>\n",
       "      <td>397</td>\n",
       "      <td>2018-12-01 00:00:29.632</td>\n",
       "      <td>2018-12-01 00:07:07.446</td>\n",
       "      <td>473.0</td>\n",
       "      <td>Rivington St &amp; Chrystie St</td>\n",
       "      <td>40.721101</td>\n",
       "      <td>-73.991925</td>\n",
       "      <td>3467.0</td>\n",
       "      <td>W Broadway &amp; Spring Street</td>\n",
       "      <td>40.724947</td>\n",
       "      <td>-74.001659</td>\n",
       "      <td>35096</td>\n",
       "      <td>Subscriber</td>\n",
       "      <td>1976</td>\n",
       "      <td>1</td>\n",
       "    </tr>\n",
       "  </tbody>\n",
       "</table>\n",
       "</div>"
      ],
      "text/plain": [
       "  tripduration               starttime                stoptime  \\\n",
       "0          689 2018-12-01 00:00:04.302 2018-12-01 00:11:33.846   \n",
       "1          204 2018-12-01 00:00:05.533 2018-12-01 00:03:30.523   \n",
       "2          316 2018-12-01 00:00:10.233 2018-12-01 00:05:27.203   \n",
       "3          726 2018-12-01 00:00:21.957 2018-12-01 00:12:28.183   \n",
       "4          397 2018-12-01 00:00:29.632 2018-12-01 00:07:07.446   \n",
       "\n",
       "   start station id          start station name  start station latitude  \\\n",
       "0            3359.0       E 68 St & Madison Ave               40.769157   \n",
       "1            3504.0    E 123 St & Lexington Ave               40.802926   \n",
       "2             270.0     Adelphi St & Myrtle Ave               40.693083   \n",
       "3             495.0            W 47 St & 10 Ave               40.762699   \n",
       "4             473.0  Rivington St & Chrystie St               40.721101   \n",
       "\n",
       "   start station longitude  end station id            end station name  \\\n",
       "0               -73.967035           164.0             E 47 St & 2 Ave   \n",
       "1               -73.937900          3490.0            E 116 St & 2 Ave   \n",
       "2               -73.971789           243.0     Fulton St & Rockwell Pl   \n",
       "3               -73.993012          3660.0             W 16 St & 8 Ave   \n",
       "4               -73.991925          3467.0  W Broadway & Spring Street   \n",
       "\n",
       "   end station latitude  end station longitude bikeid    usertype  birth year  \\\n",
       "0             40.753231             -73.970325  35033  Subscriber        1989   \n",
       "1             40.796879             -73.937261  20501  Subscriber        1966   \n",
       "2             40.688226             -73.979382  18386  Subscriber        1984   \n",
       "3             40.741022             -74.001385  27616  Subscriber        1983   \n",
       "4             40.724947             -74.001659  35096  Subscriber        1976   \n",
       "\n",
       "  gender  \n",
       "0      1  \n",
       "1      1  \n",
       "2      1  \n",
       "3      1  \n",
       "4      1  "
      ]
     },
     "execution_count": 8,
     "metadata": {},
     "output_type": "execute_result"
    }
   ],
   "source": [
    "masterdf.head()"
   ]
  },
  {
   "cell_type": "code",
   "execution_count": 9,
   "metadata": {},
   "outputs": [],
   "source": [
    "masterdf.to_csv(\"combofile.csv\", index=False, header=True)"
   ]
  },
  {
   "cell_type": "code",
   "execution_count": null,
   "metadata": {},
   "outputs": [],
   "source": [
    "masterdf.to_csv(\"combofile.csv\", index=False, header=True)"
   ]
  }
 ],
 "metadata": {
  "kernelspec": {
   "display_name": "Python 2",
   "language": "python",
   "name": "python2"
  },
  "language_info": {
   "codemirror_mode": {
    "name": "ipython",
    "version": 2
   },
   "file_extension": ".py",
   "mimetype": "text/x-python",
   "name": "python",
   "nbconvert_exporter": "python",
   "pygments_lexer": "ipython2",
   "version": "2.7.16"
  }
 },
 "nbformat": 4,
 "nbformat_minor": 2
}
